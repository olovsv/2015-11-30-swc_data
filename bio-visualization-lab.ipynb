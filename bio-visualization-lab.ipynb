{
 "cells": [
  {
   "cell_type": "markdown",
   "metadata": {},
   "source": [
    "#Putting it all together: exploratory bioinformatics with matplotlib"
   ]
  },
  {
   "cell_type": "markdown",
   "metadata": {},
   "source": [
    "####About the author:\n",
    "Oxana is a data scientist based in Stockholm, Sweden. She is studying for a PhD in Bioinformatics, exploring molecular evolution patterns in eukaryotes. You can follow Oxana on Twitter [@Merenlin](http://twitter.com/Merenlin) or read [her blog](http://merenlin.com).\n",
    "\n",
    "###Introduction\n",
    "This notebook will give you the recipes of the most popular data visualizations I encounter in my work as a bioinformatician. If you always wondered what bioinformatics is all about or would like to create interactive\n",
    "visualization for your genomic data using [matplotlib](http://matplotlib.org/), this is the place to start. \n",
    "\n",
    "We will be working with real [gene expression](http://en.wikipedia.org/wiki/Gene_expression) data obtained by [Cap Analysis of Gene Expression(CAGE)](http://en.wikipedia.org/wiki/Cap_analysis_gene_expression) from human samples by the [FANTOM5](http://fantom.gsc.riken.jp/5/) consortium. We will be following a typical workflow of a bioinformatician exploring new data, looking for the outliers: interesting genes or samples, or general patterns in the data. "
   ]
  },
  {
   "cell_type": "markdown",
   "metadata": {},
   "source": [
    "### Obtaining the data"
   ]
  },
  {
   "cell_type": "markdown",
   "metadata": {},
   "source": [
    "FANTOM5 provides high precision data of thousands of human and mouse samples. The vastness of this data can be overwhelming and operating it locally is challenging. Luckily, there are many tools out there to make our life easier.  \n",
    "For creating a small data subset we can work with in this tutorial, I used [TET: Fantom 5 Table Extraction tool](http://fantom.gsc.riken.jp/5/tet). I picked a few human samples, mostly brain tissues with a few outliers, like uterus and downloaded a tab-separated file from the website. For more advanced data extraction, it's good to have a look at [TET's API](https://github.com/Hypercubed/TET/blob/master/README.md). \n",
    "I have picked normalized tpm(tags per million) and annotated data, so we can focus only on processed data for protein coding genes. All data files for this notebook are available on figshare: http://dx.doi.org/10.6084/m9.figshare.1430029"
   ]
  },
  {
   "cell_type": "markdown",
   "metadata": {},
   "source": [
    "###Loading the dataset"
   ]
  },
  {
   "cell_type": "markdown",
   "metadata": {},
   "source": [
    "We are loading the data from the .tsv file, skipping the first two columns (00Annotation and short_description)."
   ]
  },
  {
   "cell_type": "code",
   "execution_count": 2,
   "metadata": {
    "collapsed": false,
    "scrolled": false
   },
   "outputs": [
    {
     "data": {
      "text/html": [
       "<div>\n",
       "<table border=\"1\" class=\"dataframe\">\n",
       "  <thead>\n",
       "    <tr style=\"text-align: right;\">\n",
       "      <th></th>\n",
       "      <th>description</th>\n",
       "      <th>association_with_transcript</th>\n",
       "      <th>uniprot_id</th>\n",
       "      <th>Adipocyte - breast, donor1 CNhs11051.11376-118A8</th>\n",
       "      <th>Adipocyte - omental, donor1 CNhs11054.11473-119C6</th>\n",
       "      <th>Amniotic Epithelial Cells, donor1 CNhs11341.11533-120A3</th>\n",
       "      <th>Amniotic Epithelial Cells, donor3 CNhs12125.11694-123A2</th>\n",
       "      <th>B lymphoblastoid cell line: GM12878 ENCODE, biol_rep1 CNhs12331.10821-111C2</th>\n",
       "      <th>B lymphoblastoid cell line: GM12878 ENCODE, biol_rep2 CNhs12332.10822-111C3</th>\n",
       "      <th>CD14+ Monocytes, donor1 CNhs10852.11224-116B9</th>\n",
       "      <th>CD14+ Monocytes, donor2 CNhs11954.11305-117B9</th>\n",
       "      <th>CD19+ B Cells (pluriselect), donor090309, donation1 CNhs12177.12189-129B2</th>\n",
       "      <th>CD19+ B Cells (pluriselect), donor090309, donation2 CNhs12179.12194-129B7</th>\n",
       "      <th>CD4+CD25+CD45RA+ naive regulatory T cells expanded, donor1 CNhs13203.11793-124C2</th>\n",
       "      <th>CD4+CD25+CD45RA+ naive regulatory T cells, donor1 CNhs13238.11780-124A7</th>\n",
       "    </tr>\n",
       "  </thead>\n",
       "  <tbody>\n",
       "    <tr>\n",
       "      <th>0</th>\n",
       "      <td>CAGE_peak_at_chr10:100013403..100013414,-</td>\n",
       "      <td>NaN</td>\n",
       "      <td>NaN</td>\n",
       "      <td>0.00</td>\n",
       "      <td>0.14</td>\n",
       "      <td>0.00</td>\n",
       "      <td>0.00</td>\n",
       "      <td>0.00</td>\n",
       "      <td>0.00</td>\n",
       "      <td>0.00</td>\n",
       "      <td>0.0</td>\n",
       "      <td>0</td>\n",
       "      <td>0</td>\n",
       "      <td>0.00</td>\n",
       "      <td>0</td>\n",
       "    </tr>\n",
       "    <tr>\n",
       "      <th>1</th>\n",
       "      <td>CAGE_peak_1_at_LOXL4_5end</td>\n",
       "      <td>48bp_to_ENST00000260702,NM_032211,uc001kpa.1_5end</td>\n",
       "      <td>uniprot:Q96JB6</td>\n",
       "      <td>1.09</td>\n",
       "      <td>2.40</td>\n",
       "      <td>0.22</td>\n",
       "      <td>0.53</td>\n",
       "      <td>0.00</td>\n",
       "      <td>0.00</td>\n",
       "      <td>0.00</td>\n",
       "      <td>0.0</td>\n",
       "      <td>0</td>\n",
       "      <td>0</td>\n",
       "      <td>0.00</td>\n",
       "      <td>0</td>\n",
       "    </tr>\n",
       "    <tr>\n",
       "      <th>2</th>\n",
       "      <td>CAGE_peak_at_chr10:100076685..100076699,+</td>\n",
       "      <td>NaN</td>\n",
       "      <td>NaN</td>\n",
       "      <td>0.00</td>\n",
       "      <td>0.00</td>\n",
       "      <td>0.00</td>\n",
       "      <td>0.00</td>\n",
       "      <td>0.00</td>\n",
       "      <td>0.00</td>\n",
       "      <td>0.55</td>\n",
       "      <td>0.4</td>\n",
       "      <td>0</td>\n",
       "      <td>0</td>\n",
       "      <td>0.00</td>\n",
       "      <td>0</td>\n",
       "    </tr>\n",
       "    <tr>\n",
       "      <th>3</th>\n",
       "      <td>CAGE_peak_at_chr10:100150910..100150935,-</td>\n",
       "      <td>NaN</td>\n",
       "      <td>NaN</td>\n",
       "      <td>0.00</td>\n",
       "      <td>0.00</td>\n",
       "      <td>0.00</td>\n",
       "      <td>0.00</td>\n",
       "      <td>0.15</td>\n",
       "      <td>0.08</td>\n",
       "      <td>0.00</td>\n",
       "      <td>0.0</td>\n",
       "      <td>0</td>\n",
       "      <td>0</td>\n",
       "      <td>0.17</td>\n",
       "      <td>0</td>\n",
       "    </tr>\n",
       "    <tr>\n",
       "      <th>4</th>\n",
       "      <td>CAGE_peak_at_chr10:100150951..100150962,-</td>\n",
       "      <td>NaN</td>\n",
       "      <td>NaN</td>\n",
       "      <td>0.00</td>\n",
       "      <td>0.00</td>\n",
       "      <td>0.00</td>\n",
       "      <td>0.00</td>\n",
       "      <td>0.08</td>\n",
       "      <td>0.00</td>\n",
       "      <td>0.00</td>\n",
       "      <td>0.0</td>\n",
       "      <td>0</td>\n",
       "      <td>0</td>\n",
       "      <td>0.00</td>\n",
       "      <td>0</td>\n",
       "    </tr>\n",
       "  </tbody>\n",
       "</table>\n",
       "</div>"
      ],
      "text/plain": [
       "                                 description  \\\n",
       "0  CAGE_peak_at_chr10:100013403..100013414,-   \n",
       "1                  CAGE_peak_1_at_LOXL4_5end   \n",
       "2  CAGE_peak_at_chr10:100076685..100076699,+   \n",
       "3  CAGE_peak_at_chr10:100150910..100150935,-   \n",
       "4  CAGE_peak_at_chr10:100150951..100150962,-   \n",
       "\n",
       "                         association_with_transcript      uniprot_id  \\\n",
       "0                                                NaN             NaN   \n",
       "1  48bp_to_ENST00000260702,NM_032211,uc001kpa.1_5end  uniprot:Q96JB6   \n",
       "2                                                NaN             NaN   \n",
       "3                                                NaN             NaN   \n",
       "4                                                NaN             NaN   \n",
       "\n",
       "   Adipocyte - breast, donor1 CNhs11051.11376-118A8  \\\n",
       "0                                              0.00   \n",
       "1                                              1.09   \n",
       "2                                              0.00   \n",
       "3                                              0.00   \n",
       "4                                              0.00   \n",
       "\n",
       "   Adipocyte - omental, donor1 CNhs11054.11473-119C6  \\\n",
       "0                                               0.14   \n",
       "1                                               2.40   \n",
       "2                                               0.00   \n",
       "3                                               0.00   \n",
       "4                                               0.00   \n",
       "\n",
       "   Amniotic Epithelial Cells, donor1 CNhs11341.11533-120A3  \\\n",
       "0                                               0.00         \n",
       "1                                               0.22         \n",
       "2                                               0.00         \n",
       "3                                               0.00         \n",
       "4                                               0.00         \n",
       "\n",
       "   Amniotic Epithelial Cells, donor3 CNhs12125.11694-123A2  \\\n",
       "0                                               0.00         \n",
       "1                                               0.53         \n",
       "2                                               0.00         \n",
       "3                                               0.00         \n",
       "4                                               0.00         \n",
       "\n",
       "   B lymphoblastoid cell line: GM12878 ENCODE, biol_rep1 CNhs12331.10821-111C2  \\\n",
       "0                                               0.00                             \n",
       "1                                               0.00                             \n",
       "2                                               0.00                             \n",
       "3                                               0.15                             \n",
       "4                                               0.08                             \n",
       "\n",
       "   B lymphoblastoid cell line: GM12878 ENCODE, biol_rep2 CNhs12332.10822-111C3  \\\n",
       "0                                               0.00                             \n",
       "1                                               0.00                             \n",
       "2                                               0.00                             \n",
       "3                                               0.08                             \n",
       "4                                               0.00                             \n",
       "\n",
       "   CD14+ Monocytes, donor1 CNhs10852.11224-116B9  \\\n",
       "0                                           0.00   \n",
       "1                                           0.00   \n",
       "2                                           0.55   \n",
       "3                                           0.00   \n",
       "4                                           0.00   \n",
       "\n",
       "   CD14+ Monocytes, donor2 CNhs11954.11305-117B9  \\\n",
       "0                                            0.0   \n",
       "1                                            0.0   \n",
       "2                                            0.4   \n",
       "3                                            0.0   \n",
       "4                                            0.0   \n",
       "\n",
       "   CD19+ B Cells (pluriselect), donor090309, donation1 CNhs12177.12189-129B2  \\\n",
       "0                                                  0                           \n",
       "1                                                  0                           \n",
       "2                                                  0                           \n",
       "3                                                  0                           \n",
       "4                                                  0                           \n",
       "\n",
       "   CD19+ B Cells (pluriselect), donor090309, donation2 CNhs12179.12194-129B7  \\\n",
       "0                                                  0                           \n",
       "1                                                  0                           \n",
       "2                                                  0                           \n",
       "3                                                  0                           \n",
       "4                                                  0                           \n",
       "\n",
       "   CD4+CD25+CD45RA+ naive regulatory T cells expanded, donor1 CNhs13203.11793-124C2  \\\n",
       "0                                               0.00                                  \n",
       "1                                               0.00                                  \n",
       "2                                               0.00                                  \n",
       "3                                               0.17                                  \n",
       "4                                               0.00                                  \n",
       "\n",
       "   CD4+CD25+CD45RA+ naive regulatory T cells, donor1 CNhs13238.11780-124A7  \n",
       "0                                                  0                        \n",
       "1                                                  0                        \n",
       "2                                                  0                        \n",
       "3                                                  0                        \n",
       "4                                                  0                        "
      ]
     },
     "execution_count": 2,
     "metadata": {},
     "output_type": "execute_result"
    }
   ],
   "source": [
    "import numpy as np\n",
    "import pandas as pd\n",
    "\n",
    "#%load hg19.cage_peak_tpm_ann_decoded.osc.txt.gz.extract.tsv\n",
    "\n",
    "# Read data from a tab separated file you downloaded\n",
    "data = np.genfromtxt(\"hg19.tsv\"\n",
    "                     ,comments=\"#\",names=True,dtype=object,delimiter=\"\\t\")\n",
    "\n",
    "df = pd.DataFrame(data)\n",
    "\n",
    "# This seems to work well to, i will use df_2 now\n",
    "df_2 = pd.read_table('hg19.tsv')\n",
    "\n",
    "#print it out, make sure the expression data is of type float\n",
    "\n",
    "#first have a look at the dataframe\n",
    "df_2\n",
    "\n",
    "#the expression data starts at column index 3 and on\n",
    "df_2[df_2.columns[3:]]\n",
    "\n",
    "#we make those values floats and look at df again\n",
    "df_2[df_2.columns[3:]] = df_2[df_2.columns[3:]].astype(float)\n",
    "df_2\n",
    "\n",
    "#print out how many genes there are in your dataset\n",
    "#here we can count e.g. uniprot_id lines\n",
    "df_2['uniprot_id'].describe()\n",
    "#there were 184827 genes\n",
    "\n",
    "#look at df_2 again\n",
    "df_2.head()\n"
   ]
  },
  {
   "cell_type": "markdown",
   "metadata": {},
   "source": [
    " Let's also make sure that we filter out those genes for which the [Uniprot](http://www.uniprot.org/) Id is unknown. That will reduce our data, besides, we are only interested in proteins in this analysis. "
   ]
  },
  {
   "cell_type": "code",
   "execution_count": 3,
   "metadata": {
    "collapsed": false
   },
   "outputs": [
    {
     "data": {
      "text/html": [
       "<div>\n",
       "<table border=\"1\" class=\"dataframe\">\n",
       "  <thead>\n",
       "    <tr style=\"text-align: right;\">\n",
       "      <th></th>\n",
       "      <th>description</th>\n",
       "      <th>association_with_transcript</th>\n",
       "      <th>uniprot_id</th>\n",
       "      <th>Adipocyte - breast, donor1 CNhs11051.11376-118A8</th>\n",
       "      <th>Adipocyte - omental, donor1 CNhs11054.11473-119C6</th>\n",
       "      <th>Amniotic Epithelial Cells, donor1 CNhs11341.11533-120A3</th>\n",
       "      <th>Amniotic Epithelial Cells, donor3 CNhs12125.11694-123A2</th>\n",
       "      <th>B lymphoblastoid cell line: GM12878 ENCODE, biol_rep1 CNhs12331.10821-111C2</th>\n",
       "      <th>B lymphoblastoid cell line: GM12878 ENCODE, biol_rep2 CNhs12332.10822-111C3</th>\n",
       "      <th>CD14+ Monocytes, donor1 CNhs10852.11224-116B9</th>\n",
       "      <th>CD14+ Monocytes, donor2 CNhs11954.11305-117B9</th>\n",
       "      <th>CD19+ B Cells (pluriselect), donor090309, donation1 CNhs12177.12189-129B2</th>\n",
       "      <th>CD19+ B Cells (pluriselect), donor090309, donation2 CNhs12179.12194-129B7</th>\n",
       "      <th>CD4+CD25+CD45RA+ naive regulatory T cells expanded, donor1 CNhs13203.11793-124C2</th>\n",
       "      <th>CD4+CD25+CD45RA+ naive regulatory T cells, donor1 CNhs13238.11780-124A7</th>\n",
       "    </tr>\n",
       "  </thead>\n",
       "  <tbody>\n",
       "    <tr>\n",
       "      <th>1</th>\n",
       "      <td>CAGE_peak_1_at_LOXL4_5end</td>\n",
       "      <td>48bp_to_ENST00000260702,NM_032211,uc001kpa.1_5end</td>\n",
       "      <td>uniprot:Q96JB6</td>\n",
       "      <td>1.09</td>\n",
       "      <td>2.40</td>\n",
       "      <td>0.22</td>\n",
       "      <td>0.53</td>\n",
       "      <td>0.00</td>\n",
       "      <td>0.00</td>\n",
       "      <td>0.00</td>\n",
       "      <td>0.00</td>\n",
       "      <td>0.00</td>\n",
       "      <td>0.00</td>\n",
       "      <td>0.00</td>\n",
       "      <td>0.00</td>\n",
       "    </tr>\n",
       "    <tr>\n",
       "      <th>6</th>\n",
       "      <td>CAGE_peak_1_at_PYROXD2_5end</td>\n",
       "      <td>0bp_to_ENST00000370575,ENST00000462874_5end</td>\n",
       "      <td>uniprot:Q8N2H3</td>\n",
       "      <td>4.91</td>\n",
       "      <td>5.07</td>\n",
       "      <td>13.11</td>\n",
       "      <td>10.02</td>\n",
       "      <td>0.31</td>\n",
       "      <td>0.57</td>\n",
       "      <td>1.11</td>\n",
       "      <td>1.00</td>\n",
       "      <td>0.00</td>\n",
       "      <td>0.55</td>\n",
       "      <td>4.01</td>\n",
       "      <td>4.89</td>\n",
       "    </tr>\n",
       "    <tr>\n",
       "      <th>7</th>\n",
       "      <td>CAGE_peak_2_at_PYROXD2_5end</td>\n",
       "      <td>0bp_to_NM_032709,uc001kpc.2,uc001kpd.2,uc010qp...</td>\n",
       "      <td>uniprot:Q8N2H3</td>\n",
       "      <td>2.36</td>\n",
       "      <td>1.97</td>\n",
       "      <td>3.50</td>\n",
       "      <td>3.43</td>\n",
       "      <td>0.15</td>\n",
       "      <td>0.16</td>\n",
       "      <td>0.00</td>\n",
       "      <td>0.00</td>\n",
       "      <td>0.00</td>\n",
       "      <td>0.00</td>\n",
       "      <td>0.67</td>\n",
       "      <td>1.30</td>\n",
       "    </tr>\n",
       "    <tr>\n",
       "      <th>14</th>\n",
       "      <td>CAGE_peak_1_at_HPS1_5end</td>\n",
       "      <td>0bp_to_ENST00000325103,ENST00000338546,ENST000...</td>\n",
       "      <td>uniprot:Q92902,uniprot:Q658M9,uniprot:Q8WXE5</td>\n",
       "      <td>46.51</td>\n",
       "      <td>37.07</td>\n",
       "      <td>42.81</td>\n",
       "      <td>39.04</td>\n",
       "      <td>27.13</td>\n",
       "      <td>24.38</td>\n",
       "      <td>50.41</td>\n",
       "      <td>48.33</td>\n",
       "      <td>54.56</td>\n",
       "      <td>48.61</td>\n",
       "      <td>36.28</td>\n",
       "      <td>35.53</td>\n",
       "    </tr>\n",
       "    <tr>\n",
       "      <th>23</th>\n",
       "      <td>CAGE_peak_1_at_HPSE2_5end</td>\n",
       "      <td>84bp_to_AJ299720_5end</td>\n",
       "      <td>uniprot:Q8WWQ2</td>\n",
       "      <td>0.00</td>\n",
       "      <td>0.00</td>\n",
       "      <td>0.00</td>\n",
       "      <td>0.26</td>\n",
       "      <td>0.00</td>\n",
       "      <td>0.00</td>\n",
       "      <td>0.00</td>\n",
       "      <td>0.00</td>\n",
       "      <td>0.00</td>\n",
       "      <td>0.00</td>\n",
       "      <td>0.00</td>\n",
       "      <td>0.00</td>\n",
       "    </tr>\n",
       "  </tbody>\n",
       "</table>\n",
       "</div>"
      ],
      "text/plain": [
       "                    description  \\\n",
       "1     CAGE_peak_1_at_LOXL4_5end   \n",
       "6   CAGE_peak_1_at_PYROXD2_5end   \n",
       "7   CAGE_peak_2_at_PYROXD2_5end   \n",
       "14     CAGE_peak_1_at_HPS1_5end   \n",
       "23    CAGE_peak_1_at_HPSE2_5end   \n",
       "\n",
       "                          association_with_transcript  \\\n",
       "1   48bp_to_ENST00000260702,NM_032211,uc001kpa.1_5end   \n",
       "6         0bp_to_ENST00000370575,ENST00000462874_5end   \n",
       "7   0bp_to_NM_032709,uc001kpc.2,uc001kpd.2,uc010qp...   \n",
       "14  0bp_to_ENST00000325103,ENST00000338546,ENST000...   \n",
       "23                              84bp_to_AJ299720_5end   \n",
       "\n",
       "                                      uniprot_id  \\\n",
       "1                                 uniprot:Q96JB6   \n",
       "6                                 uniprot:Q8N2H3   \n",
       "7                                 uniprot:Q8N2H3   \n",
       "14  uniprot:Q92902,uniprot:Q658M9,uniprot:Q8WXE5   \n",
       "23                                uniprot:Q8WWQ2   \n",
       "\n",
       "    Adipocyte - breast, donor1 CNhs11051.11376-118A8  \\\n",
       "1                                               1.09   \n",
       "6                                               4.91   \n",
       "7                                               2.36   \n",
       "14                                             46.51   \n",
       "23                                              0.00   \n",
       "\n",
       "    Adipocyte - omental, donor1 CNhs11054.11473-119C6  \\\n",
       "1                                                2.40   \n",
       "6                                                5.07   \n",
       "7                                                1.97   \n",
       "14                                              37.07   \n",
       "23                                               0.00   \n",
       "\n",
       "    Amniotic Epithelial Cells, donor1 CNhs11341.11533-120A3  \\\n",
       "1                                                0.22         \n",
       "6                                               13.11         \n",
       "7                                                3.50         \n",
       "14                                              42.81         \n",
       "23                                               0.00         \n",
       "\n",
       "    Amniotic Epithelial Cells, donor3 CNhs12125.11694-123A2  \\\n",
       "1                                                0.53         \n",
       "6                                               10.02         \n",
       "7                                                3.43         \n",
       "14                                              39.04         \n",
       "23                                               0.26         \n",
       "\n",
       "    B lymphoblastoid cell line: GM12878 ENCODE, biol_rep1 CNhs12331.10821-111C2  \\\n",
       "1                                                0.00                             \n",
       "6                                                0.31                             \n",
       "7                                                0.15                             \n",
       "14                                              27.13                             \n",
       "23                                               0.00                             \n",
       "\n",
       "    B lymphoblastoid cell line: GM12878 ENCODE, biol_rep2 CNhs12332.10822-111C3  \\\n",
       "1                                                0.00                             \n",
       "6                                                0.57                             \n",
       "7                                                0.16                             \n",
       "14                                              24.38                             \n",
       "23                                               0.00                             \n",
       "\n",
       "    CD14+ Monocytes, donor1 CNhs10852.11224-116B9  \\\n",
       "1                                            0.00   \n",
       "6                                            1.11   \n",
       "7                                            0.00   \n",
       "14                                          50.41   \n",
       "23                                           0.00   \n",
       "\n",
       "    CD14+ Monocytes, donor2 CNhs11954.11305-117B9  \\\n",
       "1                                            0.00   \n",
       "6                                            1.00   \n",
       "7                                            0.00   \n",
       "14                                          48.33   \n",
       "23                                           0.00   \n",
       "\n",
       "    CD19+ B Cells (pluriselect), donor090309, donation1 CNhs12177.12189-129B2  \\\n",
       "1                                                0.00                           \n",
       "6                                                0.00                           \n",
       "7                                                0.00                           \n",
       "14                                              54.56                           \n",
       "23                                               0.00                           \n",
       "\n",
       "    CD19+ B Cells (pluriselect), donor090309, donation2 CNhs12179.12194-129B7  \\\n",
       "1                                                0.00                           \n",
       "6                                                0.55                           \n",
       "7                                                0.00                           \n",
       "14                                              48.61                           \n",
       "23                                               0.00                           \n",
       "\n",
       "    CD4+CD25+CD45RA+ naive regulatory T cells expanded, donor1 CNhs13203.11793-124C2  \\\n",
       "1                                                0.00                                  \n",
       "6                                                4.01                                  \n",
       "7                                                0.67                                  \n",
       "14                                              36.28                                  \n",
       "23                                               0.00                                  \n",
       "\n",
       "    CD4+CD25+CD45RA+ naive regulatory T cells, donor1 CNhs13238.11780-124A7  \n",
       "1                                                0.00                        \n",
       "6                                                4.89                        \n",
       "7                                                1.30                        \n",
       "14                                              35.53                        \n",
       "23                                               0.00                        "
      ]
     },
     "execution_count": 3,
     "metadata": {},
     "output_type": "execute_result"
    }
   ],
   "source": [
    "# Remove rows from the data frame for which uniprot_id column is b'NA' or '' \n",
    "\n",
    "#this removes null elements\n",
    "df_2 = df_2[df_2['uniprot_id'].notnull()]\n",
    "\n",
    "# Print out the first 5-10 rows of the dataframe again\n",
    "df_2.head()"
   ]
  },
  {
   "cell_type": "markdown",
   "metadata": {},
   "source": [
    "###1. MA scatter plot comparing newborn and adult tissues"
   ]
  },
  {
   "cell_type": "markdown",
   "metadata": {
    "collapsed": false
   },
   "source": [
    "[MA plot](http://en.wikipedia.org/wiki/MA_plot) is a popular visualization tool coming from the microarray analysis. It allows researchers to explore true statistical differences between the two samples, arrays or other observations. We are going to look at the two samples of substantia nigra tissues from the brain of an adult and a newborn person. How do their genetic profiles differ? \n",
    "\n",
    "Firs, let's subset our big dataframe to only include the samples of interest. We will also prefilter the data to not include genes that are not expressed in these tissues. \n"
   ]
  },
  {
   "cell_type": "code",
   "execution_count": 4,
   "metadata": {
    "collapsed": false
   },
   "outputs": [
    {
     "data": {
      "text/html": [
       "<div>\n",
       "<table border=\"1\" class=\"dataframe\">\n",
       "  <thead>\n",
       "    <tr style=\"text-align: right;\">\n",
       "      <th></th>\n",
       "      <th>Adipocyte - breast, donor1 CNhs11051.11376-118A8</th>\n",
       "      <th>Adipocyte - omental, donor1 CNhs11054.11473-119C6</th>\n",
       "    </tr>\n",
       "  </thead>\n",
       "  <tbody>\n",
       "    <tr>\n",
       "      <th>1</th>\n",
       "      <td>1.09</td>\n",
       "      <td>2.40</td>\n",
       "    </tr>\n",
       "    <tr>\n",
       "      <th>6</th>\n",
       "      <td>4.91</td>\n",
       "      <td>5.07</td>\n",
       "    </tr>\n",
       "    <tr>\n",
       "      <th>7</th>\n",
       "      <td>2.36</td>\n",
       "      <td>1.97</td>\n",
       "    </tr>\n",
       "    <tr>\n",
       "      <th>14</th>\n",
       "      <td>46.51</td>\n",
       "      <td>37.07</td>\n",
       "    </tr>\n",
       "    <tr>\n",
       "      <th>29</th>\n",
       "      <td>0.55</td>\n",
       "      <td>0.28</td>\n",
       "    </tr>\n",
       "  </tbody>\n",
       "</table>\n",
       "</div>"
      ],
      "text/plain": [
       "    Adipocyte - breast, donor1 CNhs11051.11376-118A8  \\\n",
       "1                                               1.09   \n",
       "6                                               4.91   \n",
       "7                                               2.36   \n",
       "14                                             46.51   \n",
       "29                                              0.55   \n",
       "\n",
       "    Adipocyte - omental, donor1 CNhs11054.11473-119C6  \n",
       "1                                                2.40  \n",
       "6                                                5.07  \n",
       "7                                                1.97  \n",
       "14                                              37.07  \n",
       "29                                               0.28  "
      ]
     },
     "execution_count": 4,
     "metadata": {},
     "output_type": "execute_result"
    }
   ],
   "source": [
    "# pick two columns of the dataframe that makes sense to compare\n",
    "# I choose the values in column 4 and 5 i.e. index 3 and 4\n",
    "\n",
    "df_MA = df_2[[3,4]]\n",
    "df_MA = df_MA[(df_MA.T != 0).any()]  #remove rows with all zeros\n",
    "df_MA.head()\n",
    "\n"
   ]
  },
  {
   "cell_type": "markdown",
   "metadata": {},
   "source": [
    "There are many different methods of computing the average expression level(A) between the two observations and\n",
    "the mean variation(M). To keep things simple, for this example we will just compare the mean avg on the x-axis vs the minus on the y-axis.\n",
    "Our data is already normalized and preprocessed, so this will be enough to find the clear outliers. \n",
    "\n",
    "Don't forget to plot on the log scales on both axis."
   ]
  },
  {
   "cell_type": "code",
   "execution_count": 5,
   "metadata": {
    "collapsed": false
   },
   "outputs": [
    {
     "data": {
      "text/plain": [
       "<matplotlib.collections.PathCollection at 0x113a22710>"
      ]
     },
     "execution_count": 5,
     "metadata": {},
     "output_type": "execute_result"
    },
    {
     "name": "stderr",
     "output_type": "stream",
     "text": [
      "/Users/olovsvartstrom/anaconda/lib/python3.5/site-packages/matplotlib/collections.py:590: FutureWarning: elementwise comparison failed; returning scalar instead, but in the future will perform elementwise comparison\n",
      "  if self._edgecolors == str('face'):\n"
     ]
    },
    {
     "data": {
      "image/png": "[encoded data removed]",
      "text/plain": [
       "<matplotlib.figure.Figure at 0x108874c50>"
      ]
     },
     "metadata": {},
     "output_type": "display_data"
    }
   ],
   "source": [
    "import matplotlib.pyplot as plt\n",
    "%matplotlib inline\n",
    "\n",
    "#first make x and y to numpyarrays from values for computations\n",
    "x = np.array(df_MA['Adipocyte - breast, donor1 CNhs11051.11376-118A8'].values)\n",
    "y = np.array(df_MA['Adipocyte - omental, donor1 CNhs11054.11473-119C6'].values)\n",
    "\n",
    "#when they are numpyarrays we can perform these operations directly like below and put them in A and M\n",
    "A = (x + y)/2\n",
    "M = x - y\n",
    "\n",
    "#then scatter printing \n",
    "#something is wrong though\n",
    "#it seems to be zero values\n",
    "plt.xscale('log')\n",
    "plt.yscale('log')\n",
    "plt.scatter(A,M)\n",
    "\n",
    "#Plot a scatter plot of M vs A"
   ]
  },
  {
   "cell_type": "markdown",
   "metadata": {},
   "source": [
    "Now we can already start exploring some of the genes, that behave differently in adult vs newborn samples. "
   ]
  },
  {
   "cell_type": "markdown",
   "metadata": {
    "collapsed": true
   },
   "source": [
    "### 2. Histograms of expression breadth and average expression levels"
   ]
  },
  {
   "cell_type": "markdown",
   "metadata": {},
   "source": [
    "Another timeless visualization for exploratory data analysis is histogram.\n",
    "\n",
    "Here we will also practice creating subplots."
   ]
  },
  {
   "cell_type": "code",
   "execution_count": 6,
   "metadata": {
    "collapsed": false
   },
   "outputs": [
    {
     "data": {
      "text/plain": [
       "<matplotlib.axes._subplots.AxesSubplot at 0x1154c4a58>"
      ]
     },
     "execution_count": 6,
     "metadata": {},
     "output_type": "execute_result"
    },
    {
     "data": {
      "image/png": "[encoded data removed]",
      "text/plain": [
       "<matplotlib.figure.Figure at 0x1158a3eb8>"
      ]
     },
     "metadata": {},
     "output_type": "display_data"
    }
   ],
   "source": [
    "df_2['breadth'] =  (df_2[df_2.columns[3:].values.tolist()].astype('float')>0).sum(axis=1)\n",
    "\n",
    "#compute average expression column. Im guessing that mean works. I also examined some values and it looked good\n",
    "df_2['avg'] =  (df_2[df_2.columns[3:14].values.tolist()].astype('float')>0).mean(axis=1)\n",
    "df_2['avg']\n",
    "\n",
    "df_2.head()\n",
    "\n",
    "pd.options.display.mpl_style = 'default'\n",
    "\n",
    "#df_BR = df_2['breadth']\n",
    "#df_BR.plot(kind='hist')\n",
    "\n",
    "df_AVG = df_2['avg']\n",
    "df_AVG.plot(kind='hist')\n",
    "\n",
    "plt.yscale('log')\n",
    "df_AVG = df_2['avg']\n",
    "df_AVG.plot(kind='hist')\n",
    "\n",
    "# plot two subplots of histograms of breadth and avg columns, use pandas tools only ;)\n",
    "# try with and without log scale"
   ]
  },
  {
   "cell_type": "markdown",
   "metadata": {},
   "source": [
    "Here is where interactive visualization comes in handy. Average expression level distribution looks very wide because of a few outliers, - highly expressed genes and most of the genes actually being expressed at a very low level. But instead of trying to adjust the limits on the x-axis, we can just zoom in on the interesting area. Try it!"
   ]
  },
  {
   "cell_type": "markdown",
   "metadata": {},
   "source": [
    "### 3. Scatter plot with a trend line"
   ]
  },
  {
   "cell_type": "markdown",
   "metadata": {},
   "source": [
    "This kind of plot must be the most popular way to visualize a trend in biological data. We seek clear\n",
    "and simple patterns demonstrating the relationships between different biological parameters or observations.\n",
    "Plot.ly's Python API does not come with out-of-the-box tools for plotting trend lines, but numpy has all we need. \n",
    "\n",
    "Let's say we want to plot the relationship between the breadth of expression and the average level. Again, for speed and simplicity, we only take the first 1000 genes in our data frame. Let's try to fit a polinomial function to our data points and plot both at the same time. By using plot.ly it's simple, just send the regression line trace to the same figure.  "
   ]
  },
  {
   "cell_type": "code",
   "execution_count": 7,
   "metadata": {
    "collapsed": false
   },
   "outputs": [
    {
     "data": {
      "text/plain": [
       "<matplotlib.collections.PathCollection at 0x117ed9470>"
      ]
     },
     "execution_count": 7,
     "metadata": {},
     "output_type": "execute_result"
    },
    {
     "name": "stderr",
     "output_type": "stream",
     "text": [
      "/Users/olovsvartstrom/anaconda/lib/python3.5/site-packages/matplotlib/collections.py:590: FutureWarning: elementwise comparison failed; returning scalar instead, but in the future will perform elementwise comparison\n",
      "  if self._edgecolors == str('face'):\n"
     ]
    },
    {
     "data": {
      "image/png": "[encoded data removed]",
      "text/plain": [
       "<matplotlib.figure.Figure at 0x117ed9b38>"
      ]
     },
     "metadata": {},
     "output_type": "display_data"
    }
   ],
   "source": [
    "# Plot a scatter plot of the relationship betwen breadth of expression and avg with a trend line\n",
    "\n",
    "df_BRE = df_2['breadth']\n",
    "df_BRE = df_BRE.head(1000)\n",
    "df_AVG = df_2['avg']\n",
    "df_AVG = df_AVG.head(1000)\n",
    "\n",
    "x = np.array(df_BRE.values)\n",
    "y = np.array(df_AVG.values)\n",
    "\n",
    "# Tips utilized for trend line\n",
    "coefficients = np.polyfit(x, y, 6)\n",
    "polynomial = np.poly1d(coefficients)\n",
    "r_x = np.arange(0, 72, 0.5) # returns evenly spaced values within a given interval.\n",
    "r_y = polynomial(r_x)\n",
    "\n",
    "#normal scatter plot\n",
    "plt.scatter(x,y)\n",
    "\n",
    "#regression line\n",
    "plt.scatter(r_x,r_y)\n"
   ]
  },
  {
   "cell_type": "markdown",
   "metadata": {},
   "source": [
    "### 4. Heatmap of gene expression"
   ]
  },
  {
   "cell_type": "markdown",
   "metadata": {},
   "source": [
    "Heatmap is another great way to visualize big amounts of data. It allows to clearly see the outliers and explore the \n",
    "general clustering patterns. Are genes in different tissues, but the same donor expressed similarly or do the same tissues\n",
    "from different donors tend to cluster together? Do brains of newborns and adults differ in gene expression patterns? \n",
    "Heatmaps of gene expression can give you good leads to questions like these. "
   ]
  },
  {
   "cell_type": "markdown",
   "metadata": {},
   "source": [
    "There is one catch with generating a heatmap for biological samples using plot.ly. Labels of the heatmap will actually\n",
    "be coordinates on the x and y axis. For the plot to look less cluttered, I have removed the grid and set dtick to 1. Setting autotick to False also proved useful in order to see all the samples correctly labeled. \n",
    "\n",
    "To improve readability, one often also needs to process samples names. In our data, as you probably noticed, sample names include everything: tissue name, annotation, donor, age. The name becomes long and impossible to display in a plot. Simple shortening will not work with plot.ly though, since the coordinates must be unique! \n",
    "\n",
    "For this tutorial I've cheated a bit, by just adding an integer to each shortened name, I'm sure you can handle the string processing of your samples names on your own ;-)"
   ]
  },
  {
   "cell_type": "code",
   "execution_count": null,
   "metadata": {
    "collapsed": false
   },
   "outputs": [],
   "source": [
    "from scipy.spatial.distance import pdist, squareform\n",
    "from scipy.cluster.hierarchy import linkage, dendrogram\n",
    "\n",
    "# Shorten names \n",
    "cols = [col for col in df_2.columns if col not in ['breadth', 'uniprot_id', 'avg']]\n",
    "short_cols = [col[0:20] for col in cols]\n",
    "short_cols = [str(i) for i in range(1,len(short_cols)-1,1)]\n",
    "df_2_short = df_2\n",
    "\n",
    "first_elements = df_2_short.columns[0:3].tolist()\n",
    "last_elements = [df_2_short.columns[-2] , df_2_short.columns[-1]]\n",
    "all_short_cols = first_elements + short_cols + last_elements\n",
    "df_2_short.columns\n",
    "\n",
    "df_2_short.columns = all_short_cols\n",
    "\n",
    "df2heat = df_2_short[df_2_short.columns[3:15]]\n",
    "df2heat\n",
    "\n",
    "\n",
    "#Compute a distance matrix between columns and save it in square form\n",
    "distance_matrix = squareform(pdist(df2heat))\n",
    "\n",
    "# plot a heatmap\n",
    "plt.pcolor(distance_matrix)\n",
    "plt.yticks(np.arange(0.5, len(distance_matrix.index), 1), distance_matrix.index)\n",
    "plt.xticks(np.arange(0.5, len(distance_matrix.columns), 1), distance_matrix.columns)\n",
    "plt.show(distance_matrix)"
   ]
  },
  {
   "cell_type": "markdown",
   "metadata": {},
   "source": [
    "### 5. Network of gene interactions"
   ]
  },
  {
   "cell_type": "markdown",
   "metadata": {},
   "source": [
    "Now at some point in our biological investigations, we've got to dig deeper and look at concrete genes/proteins we found interesting. \n",
    "\n",
    "If you go back to our first plot, you'll see that one of the points that stand out corresponds to Q16352(Alpha-internexin, AINX_HUMAN). This gene demonstrates both high level of expression in substantia nigra and the difference between adult and newborn samples is also significant. Which kind of makes sense, since this protein is involved in the morphogenesis of neurons. One of the ways to find out more about a protein is to look at it's interaction networks. \n",
    "\n",
    "I've downloaded the interaction network in tab-separated format from a popular database [string-db.org](http://string-db.org/), so there is nothing novel in plotting it, we are merely reproducing the graph on their website, but, hopefully, you'll be able to use it for your future contributions to science! "
   ]
  },
  {
   "cell_type": "code",
   "execution_count": 10,
   "metadata": {
    "collapsed": false
   },
   "outputs": [],
   "source": [
    "import networkx as nx\n",
    "\n",
    "#x = np.genfromtxt('http://figshare.com/download/file/2088824', delimiter=\"\\t\", names=True, usecols=[0,1,14],\n",
    "#                  dtype=['S5','S5','f8'])\n",
    "#labels = x.dtype.names\n",
    "\n",
    "# Create an empty graph\n",
    "# G =  \n",
    "\n",
    "# Add edges to it from x\n",
    "\n",
    "# Plot G"
   ]
  },
  {
   "cell_type": "markdown",
   "metadata": {},
   "source": [
    "Now you see our protein under it's gene name(INA) in the center of the graph. "
   ]
  },
  {
   "cell_type": "markdown",
   "metadata": {
    "collapsed": true
   },
   "source": [
    "Now, that's all, folks! I hope you enjoyed this intro to exploratory bioinformatics and got inspired to create beautiful interactive visualizations for your biological data. "
   ]
  }
 ],
 "metadata": {
  "kernelspec": {
   "display_name": "Python 3",
   "language": "python",
   "name": "python3"
  },
  "language_info": {
   "codemirror_mode": {
    "name": "ipython",
    "version": 3
   },
   "file_extension": ".py",
   "mimetype": "text/x-python",
   "name": "python",
   "nbconvert_exporter": "python",
   "pygments_lexer": "ipython3",
   "version": "3.5.0"
  }
 },
 "nbformat": 4,
 "nbformat_minor": 0
}
